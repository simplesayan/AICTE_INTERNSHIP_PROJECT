{
  "nbformat": 4,
  "nbformat_minor": 0,
  "metadata": {
    "colab": {
      "provenance": []
    },
    "kernelspec": {
      "name": "python3",
      "display_name": "Python 3"
    },
    "language_info": {
      "name": "python"
    }
  },
  "cells": [
    {
      "cell_type": "code",
      "execution_count": 2,
      "metadata": {
        "colab": {
          "base_uri": "https://localhost:8080/"
        },
        "id": "wS1k86d24lOH",
        "outputId": "bc5af26b-87a9-4aa2-f1cc-bc5eb14029d5"
      },
      "outputs": [
        {
          "output_type": "stream",
          "name": "stdout",
          "text": [
            "Hi! I'm your chatbot. Type 'quit' to exit.\n",
            "You: what is your name?\n",
            "Bot: I'm a chatbot created to assist you.\n",
            "You: location?\n",
            "Bot: Can you clarify what you mean?\n",
            "You: what is my location?\n",
            "Bot: I'm based in the cloud, everywhere and nowhere.\n",
            "You: what is your name?\n",
            "Bot: I'm a chatbot created to assist you.\n",
            "You: how are you?\n",
            "Bot: Sorry, I don't understand that. Could you rephrase it?\n",
            "You: how are you\n",
            "Bot: Sorry, I don't understand that. Could you rephrase it?\n",
            "You: hi\n",
            "Bot: Hi there! How are you doing?\n",
            "You: hey\n",
            "Bot: Hello! How can I help you today?\n",
            "You: exit\n",
            "Bot: Goodbye!\n"
          ]
        }
      ],
      "source": [
        "# Step 1: Import Necessary Libraries\n",
        "import nltk\n",
        "from nltk.chat.util import Chat, reflections\n",
        "\n",
        "# Step 2: Define the Chatbot Pairs\n",
        "# The pairs define the input and response patterns for the chatbot.\n",
        "pairs = [\n",
        "    [\n",
        "        r\"hi|hello|hey\",  # User inputs matching this pattern\n",
        "        [\"Hello! How can I help you today?\", \"Hi there! How are you doing?\"]  # Possible responses\n",
        "    ],\n",
        "    [\n",
        "        r\"(.*) your name?\",  # Inputs like \"What is your name?\"\n",
        "        [\"I'm a chatbot created to assist you.\", \"I go by ChatBot. What about you?\"]\n",
        "    ],\n",
        "    [\n",
        "        r\"how are you (.*)\",\n",
        "        [\"I'm just a program, but I'm functioning as expected. How about you?\"]\n",
        "    ],\n",
        "    [\n",
        "        r\"(.*) (location|city) ?\",  # Inputs asking for location or city\n",
        "        [\"I'm based in the cloud, everywhere and nowhere.\"]\n",
        "    ],\n",
        "    [\n",
        "        r\"quit|exit\",  # User wants to quit\n",
        "        [\"Goodbye! Have a great day ahead.\", \"See you soon! Take care.\"]\n",
        "    ],\n",
        "    [\n",
        "        r\"(.*)\",  # Catch-all pattern\n",
        "        [\"Sorry, I don't understand that. Could you rephrase it?\", \"Can you clarify what you mean?\"]\n",
        "    ]\n",
        "]\n",
        "\n",
        "# Step 3: Create the Chatbot Instance\n",
        "# Reflections map user inputs to bot responses (e.g., \"I'm\" -> \"you are\").\n",
        "chatbot = Chat(pairs, reflections)\n",
        "\n",
        "# Step 4: Launch the Chatbot\n",
        "# Use a loop to allow continuous interaction.\n",
        "def start_chat():\n",
        "    print(\"Hi! I'm your chatbot. Type 'quit' to exit.\")\n",
        "    while True:\n",
        "        user_input = input(\"You: \")\n",
        "        if user_input.lower() in ['quit', 'exit']:\n",
        "            print(\"Bot: Goodbye!\")\n",
        "            break\n",
        "        response = chatbot.respond(user_input)\n",
        "        print(f\"Bot: {response}\")\n",
        "\n",
        "# Step 5: Run the Chatbot\n",
        "start_chat()\n"
      ]
    }
  ]
}