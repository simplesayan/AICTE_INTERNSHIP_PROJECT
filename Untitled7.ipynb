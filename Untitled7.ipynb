{
  "nbformat": 4,
  "nbformat_minor": 0,
  "metadata": {
    "colab": {
      "provenance": [],
      "toc_visible": true
    },
    "kernelspec": {
      "name": "python3",
      "display_name": "Python 3"
    },
    "language_info": {
      "name": "python"
    }
  },
  "cells": [
    {
      "cell_type": "code",
      "execution_count": 2,
      "metadata": {
        "colab": {
          "base_uri": "https://localhost:8080/"
        },
        "id": "Wxml4mNBtX-x",
        "outputId": "e19fe322-972f-4e9a-8fca-00b04b19b1ae"
      },
      "outputs": [
        {
          "output_type": "stream",
          "name": "stderr",
          "text": [
            "[nltk_data] Downloading package punkt to /root/nltk_data...\n",
            "[nltk_data]   Package punkt is already up-to-date!\n",
            "[nltk_data] Downloading package wordnet to /root/nltk_data...\n",
            "[nltk_data]   Package wordnet is already up-to-date!\n",
            "[nltk_data] Downloading package punkt_tab to /root/nltk_data...\n",
            "[nltk_data]   Unzipping tokenizers/punkt_tab.zip.\n",
            "[nltk_data] Downloading package wordnet_ic to /root/nltk_data...\n",
            "[nltk_data]   Unzipping corpora/wordnet_ic.zip.\n"
          ]
        },
        {
          "output_type": "stream",
          "name": "stdout",
          "text": [
            "Chatbot: Hello! I'm here to assist you with job and interview-related questions.\n",
            "You: hi\n",
            "Chatbot: Hello! How can I assist you with job or interview questions today?\n",
            "You: find a job\n",
            "Chatbot: You can search for jobs on websites like LinkedIn, Indeed, Glassdoor, or Naukri.\n",
            "You: how to write resume\n",
            "Chatbot: Focus on a clean layout, include relevant skills, use action verbs, and tailor it to the job description.\n",
            "You: how to prepare for an interview\n",
            "Chatbot: Research the company, practice common questions, dress appropriately, and stay confident.\n",
            "You: bye\n",
            "Chatbot: Goodbye! Best of luck with your job search!\n"
          ]
        }
      ],
      "source": [
        "# Chatbot for Job and Interview Questions using NLP\n",
        "\n",
        "# Step 1: Import libraries\n",
        "import json\n",
        "import nltk\n",
        "from nltk.stem import WordNetLemmatizer\n",
        "from sklearn.feature_extraction.text import CountVectorizer\n",
        "from sklearn.metrics.pairwise import cosine_similarity\n",
        "import numpy as np\n",
        "\n",
        "# Step 2: Prepare intents dataset\n",
        "intents = {\n",
        "    \"greetings\": {\n",
        "        \"patterns\": [\"hello\", \"hi\", \"how are you\", \"is anyone there?\", \"hey\"],\n",
        "        \"responses\": [\"Hello! How can I assist you with job or interview questions today?\"]\n",
        "    },\n",
        "    \"job_search\": {\n",
        "        \"patterns\": [\"how to search for jobs\", \"best job search websites\", \"find a job\"],\n",
        "        \"responses\": [\"You can search for jobs on websites like LinkedIn, Indeed, Glassdoor, or Naukri.\"]\n",
        "    },\n",
        "    \"resume_tips\": {\n",
        "        \"patterns\": [\"how to write a resume\", \"resume tips\", \"improve my CV\"],\n",
        "        \"responses\": [\"Focus on a clean layout, include relevant skills, use action verbs, and tailor it to the job description.\"]\n",
        "    },\n",
        "    \"interview_tips\": {\n",
        "        \"patterns\": [\"how to prepare for an interview\", \"interview tips\", \"common interview questions\"],\n",
        "        \"responses\": [\"Research the company, practice common questions, dress appropriately, and stay confident.\"]\n",
        "    },\n",
        "    \"farewell\": {\n",
        "        \"patterns\": [\"bye\", \"goodbye\", \"see you later\"],\n",
        "        \"responses\": [\"Goodbye! Best of luck with your job search and interviews!\"]\n",
        "    }\n",
        "}\n",
        "\n",
        "# Step 3: Preprocess data\n",
        "lemmatizer = WordNetLemmatizer()\n",
        "nltk.download('punkt')\n",
        "nltk.download('wordnet')\n",
        "nltk.download('punkt_tab') # Download the punkt_tab data\n",
        "nltk.download('wordnet_ic') # Download the wordnet_ic data\n",
        "\n",
        "def preprocess(sentence):\n",
        "    words = nltk.word_tokenize(sentence)\n",
        "    return [lemmatizer.lemmatize(word.lower()) for word in words]\n",
        "\n",
        "corpus = []\n",
        "labels = []\n",
        "\n",
        "for intent, data in intents.items():\n",
        "    for pattern in data[\"patterns\"]:\n",
        "        corpus.append(\" \".join(preprocess(pattern)))\n",
        "        labels.append(intent)\n",
        "\n",
        "# Step 4: Vectorize the corpus\n",
        "vectorizer = CountVectorizer()\n",
        "X = vectorizer.fit_transform(corpus).toarray()\n",
        "\n",
        "# Step 5: Define chatbot response function\n",
        "def chatbot_response(user_input):\n",
        "    user_input_preprocessed = \" \".join(preprocess(user_input))\n",
        "    user_vector = vectorizer.transform([user_input_preprocessed]).toarray()\n",
        "    similarities = cosine_similarity(user_vector, X)\n",
        "    max_similarity = np.max(similarities)\n",
        "\n",
        "    if max_similarity > 0.5:\n",
        "        matched_index = np.argmax(similarities)\n",
        "        intent = labels[matched_index]\n",
        "        response = np.random.choice(intents[intent][\"responses\"])\n",
        "    else:\n",
        "        response = \"I'm sorry, I didn't understand that. Can you rephrase?\"\n",
        "\n",
        "    return response\n",
        "\n",
        "# Step 6: Interact with the chatbot\n",
        "print(\"Chatbot: Hello! I'm here to assist you with job and interview-related questions.\")\n",
        "while True:\n",
        "    user_input = input(\"You: \")\n",
        "    if user_input.lower() in [\"bye\", \"exit\", \"quit\"]:\n",
        "        print(\"Chatbot: Goodbye! Best of luck with your job search!\")\n",
        "        break\n",
        "    print(\"Chatbot:\", chatbot_response(user_input))\n"
      ]
    }
  ]
}